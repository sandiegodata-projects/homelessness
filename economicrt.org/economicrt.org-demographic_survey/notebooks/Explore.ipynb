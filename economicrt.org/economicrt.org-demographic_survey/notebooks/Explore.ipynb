{
 "cells": [
  {
   "cell_type": "code",
   "execution_count": 1,
   "metadata": {},
   "outputs": [],
   "source": [
    "import seaborn as sns\n",
    "import metapack as mp\n",
    "import pandas as pd\n",
    "import numpy as np\n",
    "import matplotlib.pyplot as plt\n",
    "from IPython.display import display \n",
    "\n",
    "%matplotlib inline\n",
    "sns.set_context('notebook')\n",
    "mp.jupyter.init()\n"
   ]
  },
  {
   "cell_type": "code",
   "execution_count": 2,
   "metadata": {},
   "outputs": [
    {
     "data": {
      "text/html": [
       "<h1>LA Homelessness Demographic Survey</h1>\n",
       "<p><code>economicrt.org-demographic_survey-1</code> Last Update: 2019-07-03T22:02:16</p>\n",
       "<p>__</p>\n",
       "<p>This package includes individual demographic surveys, and a navieve combined\n",
       "file. The Combined file is processed automatically, so it is poorly organized.\n",
       "Only 46 of the 171 columns in the combined file are common across all of the\n",
       "individual files.</p>\n",
       "<h2>Contacts</h2>\n",
       "<ul>\n",
       "<li><strong>Wrangler</strong> <a href=\"mailto:eric@civicknowledge.com\">Eric Busboom</a>, <a href=\"http://civicknowledge.com\">Civic Knowledge</a></li>\n",
       "<li><strong>Publisher</strong> <a href=\"https://economicrt.org/about/\">The Economic Roundtable</a></li>\n",
       "<li><strong>Creator</strong> <a href=\"https://www.lahsa.org/\">Los Angeles Homeless Services Authority</a></li>\n",
       "</ul>\n",
       "<h2>Resources</h2>\n",
       "<ul>\n",
       "<li><strong> <a href=\"data/survey.csv\">survey</a></strong>. Combined subgroups file</li>\n",
       "</ul>\n",
       "<h2>References</h2>\n",
       "<ul>\n",
       "<li><strong><a href=\"https://economicrt.org/wp-content/uploads/2018/08/Demographic_Survey_2011_Final.csv\">demo_survey_2011</a></strong>. 2011 Homeless Count Unsheltered Adult and Youth Demographic Survey - Individuals - Standardized Records</li>\n",
       "<li><strong><a href=\"https://economicrt.org/wp-content/uploads/2018/08/Demographic_Survey_2013_Final.csv\">demo_survey_2013</a></strong>. 2013 Homeless Count Unsheltered Adult and Youth Demographic Survey - Individuals - Standardized Records</li>\n",
       "<li><strong><a href=\"https://economicrt.org/wp-content/uploads/2018/08/Demographic_Survey_2015_Final.csv\">demo_survey_2015</a></strong>. 2015 Homeless Count Unsheltered Adult and Youth Demographic Survey - Individuals - Standardized Records</li>\n",
       "<li><strong><a href=\"https://economicrt.org/wp-content/uploads/2018/08/Demographic_Survey_2016_Final.csv\">demo_survey_2016</a></strong>. 2016 Homeless Count Unsheltered Adult and Youth Demographic Survey - Individuals - Standardized Records</li>\n",
       "<li><strong><a href=\"https://economicrt.org/wp-content/uploads/2018/09/Demographic_Survey_2017_v3.csv\">demo_survey_2017</a></strong>. 2017 Homeless Count Unsheltered Adults and Youth Demographic Survey - Individuals - Standardized Records</li>\n",
       "</ul>"
      ],
      "text/plain": [
       "# LA Homelessness Demographic Survey\n",
       "`economicrt.org-demographic_survey-1` Last Update: 2019-07-03T22:02:16\n",
       "\n",
       "__\n",
       "\n",
       "\n",
       "This package includes individual demographic surveys, and a navieve combined\n",
       "file. The Combined file is processed automatically, so it is poorly organized.\n",
       "Only 46 of the 171 columns in the combined file are common across all of the\n",
       "individual files.\n",
       "\n",
       "\n",
       " \n",
       "\n",
       "## Contacts\n",
       "\n",
       "* **Wrangler** [Eric Busboom](mailto:eric@civicknowledge.com), [Civic Knowledge](http://civicknowledge.com)\n",
       "* **Publisher** [The Economic Roundtable](https://economicrt.org/about/)\n",
       "* **Creator** [Los Angeles Homeless Services Authority](https://www.lahsa.org/)\n",
       "\n",
       "## Resources\n",
       "\n",
       "* ** [survey](data/survey.csv)**. Combined subgroups file\n",
       "\n",
       "## References\n",
       "\n",
       "* **[demo_survey_2011](https://economicrt.org/wp-content/uploads/2018/08/Demographic_Survey_2011_Final.csv)**. 2011 Homeless Count Unsheltered Adult and Youth Demographic Survey - Individuals - Standardized Records\n",
       "* **[demo_survey_2013](https://economicrt.org/wp-content/uploads/2018/08/Demographic_Survey_2013_Final.csv)**. 2013 Homeless Count Unsheltered Adult and Youth Demographic Survey - Individuals - Standardized Records\n",
       "* **[demo_survey_2015](https://economicrt.org/wp-content/uploads/2018/08/Demographic_Survey_2015_Final.csv)**. 2015 Homeless Count Unsheltered Adult and Youth Demographic Survey - Individuals - Standardized Records\n",
       "* **[demo_survey_2016](https://economicrt.org/wp-content/uploads/2018/08/Demographic_Survey_2016_Final.csv)**. 2016 Homeless Count Unsheltered Adult and Youth Demographic Survey - Individuals - Standardized Records\n",
       "* **[demo_survey_2017](https://economicrt.org/wp-content/uploads/2018/09/Demographic_Survey_2017_v3.csv)**. 2017 Homeless Count Unsheltered Adults and Youth Demographic Survey - Individuals - Standardized Records"
      ]
     },
     "execution_count": 2,
     "metadata": {},
     "output_type": "execute_result"
    }
   ],
   "source": [
    "pkg = mp.jupyter.open_package()\n",
    "#pkg = mp.jupyter.open_source_package()\n",
    "pkg"
   ]
  },
  {
   "cell_type": "code",
   "execution_count": 4,
   "metadata": {},
   "outputs": [],
   "source": [
    "df = pkg.resource('survey').read_csv(low_memory=False)"
   ]
  },
  {
   "cell_type": "code",
   "execution_count": 13,
   "metadata": {},
   "outputs": [],
   "source": [
    "df['age'] = df.age.where(df.age <= 100, 100)\n",
    "df['sexual_orientation'] = df.sexual_orientation.str.lower()"
   ]
  },
  {
   "cell_type": "code",
   "execution_count": 8,
   "metadata": {},
   "outputs": [
    {
     "data": {
      "text/plain": [
       "21168"
      ]
     },
     "execution_count": 8,
     "metadata": {},
     "output_type": "execute_result"
    }
   ],
   "source": [
    "len(df)"
   ]
  },
  {
   "cell_type": "code",
   "execution_count": 10,
   "metadata": {},
   "outputs": [
    {
     "data": {
      "text/plain": [
       "count    20187.000000\n",
       "mean        44.691683\n",
       "std         19.619386\n",
       "min          0.000000\n",
       "25%         34.000000\n",
       "50%         47.000000\n",
       "75%         55.000000\n",
       "max       2015.000000\n",
       "Name: age, dtype: float64"
      ]
     },
     "execution_count": 10,
     "metadata": {},
     "output_type": "execute_result"
    }
   ],
   "source": [
    "df.age.describe()"
   ]
  },
  {
   "cell_type": "code",
   "execution_count": 14,
   "metadata": {},
   "outputs": [
    {
     "data": {
      "text/plain": [
       "<matplotlib.axes._subplots.AxesSubplot at 0x7f9bd84cb828>"
      ]
     },
     "execution_count": 14,
     "metadata": {},
     "output_type": "execute_result"
    },
    {
     "data": {
      "image/png": "[encoded data removed]",
      "text/plain": [
       "<Figure size 432x288 with 1 Axes>"
      ]
     },
     "metadata": {
      "needs_background": "light"
     },
     "output_type": "display_data"
    }
   ],
   "source": [
    "df.age.hist()"
   ]
  },
  {
   "cell_type": "code",
   "execution_count": 16,
   "metadata": {},
   "outputs": [
    {
     "data": {
      "text/plain": [
       "<matplotlib.axes._subplots.AxesSubplot at 0x7f9bf89c3198>"
      ]
     },
     "execution_count": 16,
     "metadata": {},
     "output_type": "execute_result"
    },
    {
     "data": {
      "image/png": "[encoded data removed]",
      "text/plain": [
       "<Figure size 432x288 with 1 Axes>"
      ]
     },
     "metadata": {
      "needs_background": "light"
     },
     "output_type": "display_data"
    }
   ],
   "source": [
    "df.age_first_homeless.hist()"
   ]
  },
  {
   "cell_type": "code",
   "execution_count": 36,
   "metadata": {},
   "outputs": [
    {
     "data": {
      "text/plain": [
       "count        17540\n",
       "unique          12\n",
       "top       Straight\n",
       "freq         10800\n",
       "Name: sexual_orientation, dtype: object"
      ]
     },
     "execution_count": 36,
     "metadata": {},
     "output_type": "execute_result"
    }
   ],
   "source": [
    "df.sexual_orientation.describe()"
   ]
  },
  {
   "cell_type": "code",
   "execution_count": 39,
   "metadata": {},
   "outputs": [
    {
     "data": {
      "text/plain": [
       "straight                15413\n",
       "unknown                   686\n",
       "bisexual                  679\n",
       "gay or lesbian            619\n",
       "unsure / questioning      127\n",
       "transgender                16\n",
       "Name: sexual_orientation, dtype: int64"
      ]
     },
     "execution_count": 39,
     "metadata": {},
     "output_type": "execute_result"
    }
   ],
   "source": [
    "df.sexual_orientation.value_counts()"
   ]
  },
  {
   "cell_type": "code",
   "execution_count": 38,
   "metadata": {},
   "outputs": [],
   "source": [
    "df['sexual_orientation'] = df.sexual_orientation.str.lower()"
   ]
  },
  {
   "cell_type": "code",
   "execution_count": null,
   "metadata": {},
   "outputs": [],
   "source": []
  }
 ],
 "metadata": {
  "kernelspec": {
   "display_name": "Python 3",
   "language": "python",
   "name": "python3"
  },
  "language_info": {
   "codemirror_mode": {
    "name": "ipython",
    "version": 3
   },
   "file_extension": ".py",
   "mimetype": "text/x-python",
   "name": "python",
   "nbconvert_exporter": "python",
   "pygments_lexer": "ipython3",
   "version": "3.7.3"
  }
 },
 "nbformat": 4,
 "nbformat_minor": 2
}
