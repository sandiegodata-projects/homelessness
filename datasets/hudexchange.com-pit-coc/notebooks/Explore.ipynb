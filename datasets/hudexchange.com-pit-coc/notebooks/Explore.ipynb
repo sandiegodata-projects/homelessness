{
 "cells": [
  {
   "cell_type": "code",
   "execution_count": 1,
   "metadata": {},
   "outputs": [],
   "source": [
    "import seaborn as sns\n",
    "import metapack as mp\n",
    "import pandas as pd\n",
    "import numpy as np\n",
    "import matplotlib.pyplot as plt\n",
    "from IPython.display import display \n",
    "\n",
    "%matplotlib inline\n",
    "sns.set_context('notebook')\n",
    "mp.jupyter.init()\n"
   ]
  },
  {
   "cell_type": "code",
   "execution_count": 2,
   "metadata": {},
   "outputs": [
    {
     "data": {
      "text/html": [
       "<h1>HUD Point in Time Counts by CoC</h1>\n",
       "<p><code>hudexchange.com-pit-coc-1</code> Last Update: 2019-07-07T16:32:37</p>\n",
       "<p>__</p>\n",
       "<h2>Documentation Links</h2>\n",
       "<ul>\n",
       "<li><a href=\"https://www.hudexchange.info/resource/3031/pit-and-hic-data-since-2007/\">PIT and HIC Data Since 2007</a> </li>\n",
       "</ul>\n",
       "<h2>Contacts</h2>\n",
       "<ul>\n",
       "<li><strong>Wrangler</strong> <a href=\"mailto:eric@civicknowledge.com\">Eric Busboom</a>, <a href=\"http://civicknowledge.com\">Civic Knowledge</a></li>\n",
       "</ul>\n",
       "<h2>Resources</h2>\n",
       "<ul>\n",
       "<li><strong> <a href=\"data/pitc_coc.csv\">pitc_coc</a></strong>. Combined pitc, 2007 to 2018</li>\n",
       "</ul>\n",
       "<h2>References</h2>\n",
       "<ul>\n",
       "<li><strong><a href=\"https://www.hudexchange.info/resources/documents/2007-2018-PIT-Counts-by-CoC.xlsx;2018\">pitc_coc_2018</a></strong>. 2007 - 2018 PIT Counts by CoC; 2018 workbook</li>\n",
       "<li><strong><a href=\"https://www.hudexchange.info/resources/documents/2007-2018-PIT-Counts-by-CoC.xlsx;2017\">pitc_coc_2017</a></strong>. 2006 - 2018 PIT Counts by CoC; 2017 workbook</li>\n",
       "<li><strong><a href=\"https://www.hudexchange.info/resources/documents/2007-2018-PIT-Counts-by-CoC.xlsx;2016\">pitc_coc_2016</a></strong>. 2005 - 2018 PIT Counts by CoC; 2016 workbook</li>\n",
       "<li><strong><a href=\"https://www.hudexchange.info/resources/documents/2007-2018-PIT-Counts-by-CoC.xlsx;2015\">pitc_coc_2015</a></strong>. 2004 - 2018 PIT Counts by CoC; 2015 workbook</li>\n",
       "<li><strong><a href=\"https://www.hudexchange.info/resources/documents/2007-2018-PIT-Counts-by-CoC.xlsx;2014\">pitc_coc_2014</a></strong>. 2003 - 2018 PIT Counts by CoC; 2014 workbook</li>\n",
       "<li><strong><a href=\"https://www.hudexchange.info/resources/documents/2007-2018-PIT-Counts-by-CoC.xlsx;2013\">pitc_coc_2013</a></strong>. 2002 - 2018 PIT Counts by CoC; 2013 workbook</li>\n",
       "<li><strong><a href=\"https://www.hudexchange.info/resources/documents/2007-2018-PIT-Counts-by-CoC.xlsx;2012\">pitc_coc_2012</a></strong>. 2001 - 2018 PIT Counts by CoC; 2012 workbook</li>\n",
       "<li><strong><a href=\"https://www.hudexchange.info/resources/documents/2007-2018-PIT-Counts-by-CoC.xlsx;2011\">pitc_coc_2011</a></strong>. 2000 - 2018 PIT Counts by CoC; 2011 workbook</li>\n",
       "<li><strong><a href=\"https://www.hudexchange.info/resources/documents/2007-2018-PIT-Counts-by-CoC.xlsx;2010\">pitc_coc_2010</a></strong>. 1999 - 2018 PIT Counts by CoC; 2010 workbook</li>\n",
       "<li><strong><a href=\"https://www.hudexchange.info/resources/documents/2007-2018-PIT-Counts-by-CoC.xlsx;2009\">pitc_coc_2009</a></strong>. 1998 - 2018 PIT Counts by CoC; 2009 workbook</li>\n",
       "<li><strong><a href=\"https://www.hudexchange.info/resources/documents/2007-2018-PIT-Counts-by-CoC.xlsx;2008\">pitc_coc_2008</a></strong>. 1997 - 2018 PIT Counts by CoC; 2008 workbook</li>\n",
       "<li><strong><a href=\"https://www.hudexchange.info/resources/documents/2007-2018-PIT-Counts-by-CoC.xlsx;2007\">pitc_coc_2007</a></strong>. 1996 - 2018 PIT Counts by CoC; 2007 workbook</li>\n",
       "</ul>"
      ],
      "text/plain": [
       "# HUD Point in Time Counts by CoC\n",
       "`hudexchange.com-pit-coc-1` Last Update: 2019-07-07T16:32:37\n",
       "\n",
       "__\n",
       "\n",
       "\n",
       "## Documentation Links\n",
       "\n",
       "* [PIT and HIC Data Since 2007](https://www.hudexchange.info/resource/3031/pit-and-hic-data-since-2007/) \n",
       "\n",
       " \n",
       "\n",
       "## Contacts\n",
       "\n",
       "* **Wrangler** [Eric Busboom](mailto:eric@civicknowledge.com), [Civic Knowledge](http://civicknowledge.com)\n",
       "\n",
       "## Resources\n",
       "\n",
       "* ** [pitc_coc](data/pitc_coc.csv)**. Combined pitc, 2007 to 2018\n",
       "\n",
       "## References\n",
       "\n",
       "* **[pitc_coc_2018](https://www.hudexchange.info/resources/documents/2007-2018-PIT-Counts-by-CoC.xlsx;2018)**. 2007 - 2018 PIT Counts by CoC; 2018 workbook\n",
       "* **[pitc_coc_2017](https://www.hudexchange.info/resources/documents/2007-2018-PIT-Counts-by-CoC.xlsx;2017)**. 2006 - 2018 PIT Counts by CoC; 2017 workbook\n",
       "* **[pitc_coc_2016](https://www.hudexchange.info/resources/documents/2007-2018-PIT-Counts-by-CoC.xlsx;2016)**. 2005 - 2018 PIT Counts by CoC; 2016 workbook\n",
       "* **[pitc_coc_2015](https://www.hudexchange.info/resources/documents/2007-2018-PIT-Counts-by-CoC.xlsx;2015)**. 2004 - 2018 PIT Counts by CoC; 2015 workbook\n",
       "* **[pitc_coc_2014](https://www.hudexchange.info/resources/documents/2007-2018-PIT-Counts-by-CoC.xlsx;2014)**. 2003 - 2018 PIT Counts by CoC; 2014 workbook\n",
       "* **[pitc_coc_2013](https://www.hudexchange.info/resources/documents/2007-2018-PIT-Counts-by-CoC.xlsx;2013)**. 2002 - 2018 PIT Counts by CoC; 2013 workbook\n",
       "* **[pitc_coc_2012](https://www.hudexchange.info/resources/documents/2007-2018-PIT-Counts-by-CoC.xlsx;2012)**. 2001 - 2018 PIT Counts by CoC; 2012 workbook\n",
       "* **[pitc_coc_2011](https://www.hudexchange.info/resources/documents/2007-2018-PIT-Counts-by-CoC.xlsx;2011)**. 2000 - 2018 PIT Counts by CoC; 2011 workbook\n",
       "* **[pitc_coc_2010](https://www.hudexchange.info/resources/documents/2007-2018-PIT-Counts-by-CoC.xlsx;2010)**. 1999 - 2018 PIT Counts by CoC; 2010 workbook\n",
       "* **[pitc_coc_2009](https://www.hudexchange.info/resources/documents/2007-2018-PIT-Counts-by-CoC.xlsx;2009)**. 1998 - 2018 PIT Counts by CoC; 2009 workbook\n",
       "* **[pitc_coc_2008](https://www.hudexchange.info/resources/documents/2007-2018-PIT-Counts-by-CoC.xlsx;2008)**. 1997 - 2018 PIT Counts by CoC; 2008 workbook\n",
       "* **[pitc_coc_2007](https://www.hudexchange.info/resources/documents/2007-2018-PIT-Counts-by-CoC.xlsx;2007)**. 1996 - 2018 PIT Counts by CoC; 2007 workbook"
      ]
     },
     "execution_count": 2,
     "metadata": {},
     "output_type": "execute_result"
    }
   ],
   "source": [
    "pkg = mp.jupyter.open_package()\n",
    "#pkg = mp.jupyter.open_source_package()\n",
    "pkg"
   ]
  },
  {
   "cell_type": "code",
   "execution_count": 3,
   "metadata": {},
   "outputs": [],
   "source": [
    "df = pkg.resource('pitc_coc')"
   ]
  },
  {
   "cell_type": "code",
   "execution_count": null,
   "metadata": {},
   "outputs": [],
   "source": []
  }
 ],
 "metadata": {
  "kernelspec": {
   "display_name": "Python 3",
   "language": "python",
   "name": "python3"
  },
  "language_info": {
   "codemirror_mode": {
    "name": "ipython",
    "version": 3
   },
   "file_extension": ".py",
   "mimetype": "text/x-python",
   "name": "python",
   "nbconvert_exporter": "python",
   "pygments_lexer": "ipython3",
   "version": "3.7.3"
  }
 },
 "nbformat": 4,
 "nbformat_minor": 2
}
