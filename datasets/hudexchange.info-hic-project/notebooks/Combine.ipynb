{
 "cells": [
  {
   "cell_type": "code",
   "execution_count": 1,
   "metadata": {},
   "outputs": [],
   "source": [
    "import seaborn as sns\n",
    "import metapack as mp\n",
    "import pandas as pd\n",
    "import numpy as np\n",
    "import matplotlib.pyplot as plt\n",
    "from IPython.display import display \n",
    "\n",
    "%matplotlib inline\n",
    "sns.set_context('notebook')\n",
    "mp.jupyter.init()\n",
    "\n",
    "from metapack_build.core import alt_col_name\n",
    "import re\n",
    "\n"
   ]
  },
  {
   "cell_type": "code",
   "execution_count": 2,
   "metadata": {},
   "outputs": [
    {
     "data": {
      "text/html": [
       "<p><code>hudexchange.info-hic-facility-1</code> Last Update: 2019-07-09T23:34:01</p>\n",
       "<p>__</p>\n",
       "<h2>Contacts</h2>\n",
       "<ul>\n",
       "<li><strong>Wrangler</strong> <a href=\"mailto:eric@civicknowledge.com\">Eric Busboom</a>, <a href=\"http://civicknowledge.com\">Civic Knowledge</a></li>\n",
       "</ul>\n",
       "<h2>Resources</h2>\n",
       "<ul>\n",
       "<li><strong> <a href=\"python:metapack_build.rowgenerator#copy_reference_group\">hic</a></strong>. </li>\n",
       "</ul>\n",
       "<h2>References</h2>\n",
       "<ul>\n",
       "<li><strong><a href=\"https://www.hudexchange.info/resources/documents/2018-Housing-Inventory-Count-Raw-File.xlsx\">hic_2018</a></strong>. 2018 HIC (Raw File)</li>\n",
       "<li><strong><a href=\"https://www.hudexchange.info/resources/documents/2017-Housing-Inventory-Count-Raw-File.xlsx\">hic_2017</a></strong>. 2017 HIC (Raw File)</li>\n",
       "<li><strong><a href=\"https://www.hudexchange.info/resources/documents/2016-Housing-Inventory-Count-Raw-File.xlsx\">hic_2016</a></strong>. 2016 HIC (Raw File)</li>\n",
       "<li><strong><a href=\"https://www.hudexchange.info/resources/documents/2015-Housing-Inventory-Count-Raw-File.xlsx\">hic_2015</a></strong>. 2015 HIC (Raw File)</li>\n",
       "<li><strong><a href=\"https://www.hudexchange.info/resources/documents/2014-Housing-Inventory-Count-Raw-File.xlsx\">hic_2014</a></strong>. 2014 HIC (Raw File)</li>\n",
       "<li><strong><a href=\"https://www.hudexchange.info/resources/documents/2013-Housing-Inventory-Count-Raw-File.xlsx\">hic_2013</a></strong>. 2013 HIC (Raw File)</li>\n",
       "<li><strong><a href=\"https://www.hudexchange.info/resources/documents/2012HIC_RawData.xlsx#1\">hic_2012</a></strong>. 2012 HIC (Raw File)</li>\n",
       "</ul>"
      ],
      "text/plain": [
       "\n",
       "`hudexchange.info-hic-facility-1` Last Update: 2019-07-09T23:34:01\n",
       "\n",
       "__\n",
       "\n",
       "\n",
       "\n",
       "\n",
       " \n",
       "\n",
       "## Contacts\n",
       "\n",
       "* **Wrangler** [Eric Busboom](mailto:eric@civicknowledge.com), [Civic Knowledge](http://civicknowledge.com)\n",
       "\n",
       "## Resources\n",
       "\n",
       "* ** [hic](python:metapack_build.rowgenerator#copy_reference_group)**. \n",
       "\n",
       "## References\n",
       "\n",
       "* **[hic_2018](https://www.hudexchange.info/resources/documents/2018-Housing-Inventory-Count-Raw-File.xlsx)**. 2018 HIC (Raw File)\n",
       "* **[hic_2017](https://www.hudexchange.info/resources/documents/2017-Housing-Inventory-Count-Raw-File.xlsx)**. 2017 HIC (Raw File)\n",
       "* **[hic_2016](https://www.hudexchange.info/resources/documents/2016-Housing-Inventory-Count-Raw-File.xlsx)**. 2016 HIC (Raw File)\n",
       "* **[hic_2015](https://www.hudexchange.info/resources/documents/2015-Housing-Inventory-Count-Raw-File.xlsx)**. 2015 HIC (Raw File)\n",
       "* **[hic_2014](https://www.hudexchange.info/resources/documents/2014-Housing-Inventory-Count-Raw-File.xlsx)**. 2014 HIC (Raw File)\n",
       "* **[hic_2013](https://www.hudexchange.info/resources/documents/2013-Housing-Inventory-Count-Raw-File.xlsx)**. 2013 HIC (Raw File)\n",
       "* **[hic_2012](https://www.hudexchange.info/resources/documents/2012HIC_RawData.xlsx#1)**. 2012 HIC (Raw File)"
      ]
     },
     "execution_count": 2,
     "metadata": {},
     "output_type": "execute_result"
    }
   ],
   "source": [
    "\n",
    "pkg = mp.jupyter.open_source_package()\n",
    "pkg"
   ]
  },
  {
   "cell_type": "code",
   "execution_count": 3,
   "metadata": {},
   "outputs": [],
   "source": [
    "frames = {}\n",
    "for r in pkg.references():\n",
    "    f = r.dataframe()\n",
    "    if not 'year' in f.columns:\n",
    "        f.insert(0,'year', value=int(r.Year))\n",
    "    frames[int(r.Year)]  = f\n"
   ]
  },
  {
   "cell_type": "code",
   "execution_count": 4,
   "metadata": {},
   "outputs": [
    {
     "name": "stdout",
     "output_type": "stream",
     "text": [
      "96 2018\n",
      "82 2017\n",
      "69 2016\n",
      "47 2015\n",
      "40 2014\n",
      "39 2013\n",
      "34 2012\n"
     ]
    }
   ],
   "source": [
    "# Sort the frames by number of \n",
    "sorted_frames = {}\n",
    "for s,k,v in reversed(sorted( (len(v.columns), k, v) for k,v in frames.items())):\n",
    "    print(s,k)\n",
    "    sorted_frames[k] = v\n",
    "    "
   ]
  },
  {
   "cell_type": "code",
   "execution_count": 11,
   "metadata": {},
   "outputs": [],
   "source": [
    "def munge_cols(df):\n",
    "    return [re.sub(r'_\\d\\d\\d\\d', '', alt_col_name(c,i)) for i, c in enumerate(df.columns) ]\n",
    "\n",
    "from metapack_build.core import alt_col_name\n",
    "\n",
    "# Create a list of all columns, apptempting to preserve order\n",
    "all_cols  = list(map(alt_col_name, list(sorted_frames.values())[0].columns))\n",
    "for f in list(sorted_frames.values())[1:]:\n",
    "    all_cols +=  [ c for c in map(alt_col_name,f.columns) if c not in all_cols]\n",
    "    "
   ]
  },
  {
   "cell_type": "code",
   "execution_count": 26,
   "metadata": {},
   "outputs": [],
   "source": [
    "cm_series = { 'index': all_cols} # column map series\n",
    "for k,f in frames.items():\n",
    "    s = [None] * len(all_cols)\n",
    "    for c in f.columns:\n",
    "        alt = alt_col_name(c)\n",
    "        s[all_cols.index(alt)] = c\n",
    "    cm_series[k] = s"
   ]
  },
  {
   "cell_type": "code",
   "execution_count": 28,
   "metadata": {},
   "outputs": [],
   "source": [
    "df = pd.DataFrame(cm_series)\n",
    "df.to_csv('colmap.csv')"
   ]
  },
  {
   "cell_type": "code",
   "execution_count": null,
   "metadata": {},
   "outputs": [],
   "source": [
    "\n",
    "cols = []\n",
    "extra_cols = set()\n",
    "\n",
    "# Check that the latest file has all of the columns that are in all of the earlier files\n",
    "for f in frames.values():\n",
    "    \n",
    "    if not cols:\n",
    "        cols = munge_cols(f)\n",
    "    else:\n",
    "        c1 = set(cols)\n",
    "        c2 = set(munge_cols(f))\n",
    "        extra_cols |= (c2-c1)\n",
    "    \n",
    "#for f in reversed(frames):\n",
    "#    f.columns = munge_cols(f)\n",
    "   "
   ]
  },
  {
   "cell_type": "code",
   "execution_count": null,
   "metadata": {},
   "outputs": [],
   "source": []
  },
  {
   "cell_type": "code",
   "execution_count": null,
   "metadata": {},
   "outputs": [],
   "source": [
    "df = pd.concat(frames, sort=True)"
   ]
  },
  {
   "cell_type": "code",
   "execution_count": null,
   "metadata": {},
   "outputs": [],
   "source": [
    "str_cols = ['coc_number', 'coc_name', 'coc_category']\n",
    "num_cols = [c for c in df.columns if c not in str_cols+['year']]\n",
    "new_cols = ['year'] + str_cols + num_cols"
   ]
  },
  {
   "cell_type": "code",
   "execution_count": null,
   "metadata": {},
   "outputs": [],
   "source": [
    "# Get rid of the blanks and '.' that prevent most of the columns from being numbers \n",
    "strings = set()\n",
    "for c in num_cols:\n",
    "    s = df[c]\n",
    "    strings |=set(s[s.apply(lambda x: isinstance(x, str))])\n",
    "    \n",
    "    df[c] = pd.to_numeric(df[c],errors='coerce')\n",
    " \n",
    "df = df[new_cols].sort_values(['year','coc_number'])"
   ]
  },
  {
   "cell_type": "code",
   "execution_count": null,
   "metadata": {},
   "outputs": [],
   "source": [
    "df.head().T"
   ]
  },
  {
   "cell_type": "code",
   "execution_count": null,
   "metadata": {},
   "outputs": [],
   "source": []
  }
 ],
 "metadata": {
  "kernelspec": {
   "display_name": "Python 3",
   "language": "python",
   "name": "python3"
  },
  "language_info": {
   "codemirror_mode": {
    "name": "ipython",
    "version": 3
   },
   "file_extension": ".py",
   "mimetype": "text/x-python",
   "name": "python",
   "nbconvert_exporter": "python",
   "pygments_lexer": "ipython3",
   "version": "3.7.3"
  }
 },
 "nbformat": 4,
 "nbformat_minor": 2
}
