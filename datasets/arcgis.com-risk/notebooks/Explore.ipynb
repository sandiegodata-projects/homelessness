{
 "cells": [
  {
   "cell_type": "code",
   "execution_count": 1,
   "metadata": {},
   "outputs": [
    {
     "name": "stdout",
     "output_type": "stream",
     "text": [
      "Requirement already satisfied: descartes in /Users/eric/anaconda3/envs/metatab-dev/lib/python3.7/site-packages (1.1.0)\n",
      "Requirement already satisfied: matplotlib in /Users/eric/anaconda3/envs/metatab-dev/lib/python3.7/site-packages (from descartes) (3.1.0)\n",
      "Requirement already satisfied: cycler>=0.10 in /Users/eric/anaconda3/envs/metatab-dev/lib/python3.7/site-packages (from matplotlib->descartes) (0.10.0)\n",
      "Requirement already satisfied: kiwisolver>=1.0.1 in /Users/eric/anaconda3/envs/metatab-dev/lib/python3.7/site-packages (from matplotlib->descartes) (1.1.0)\n",
      "Requirement already satisfied: pyparsing!=2.0.4,!=2.1.2,!=2.1.6,>=2.0.1 in /Users/eric/anaconda3/envs/metatab-dev/lib/python3.7/site-packages (from matplotlib->descartes) (2.4.0)\n",
      "Requirement already satisfied: python-dateutil>=2.1 in /Users/eric/anaconda3/envs/metatab-dev/lib/python3.7/site-packages (from matplotlib->descartes) (2.8.0)\n",
      "Requirement already satisfied: numpy>=1.11 in /Users/eric/anaconda3/envs/metatab-dev/lib/python3.7/site-packages (from matplotlib->descartes) (1.16.4)\n",
      "Requirement already satisfied: six in /Users/eric/anaconda3/envs/metatab-dev/lib/python3.7/site-packages (from cycler>=0.10->matplotlib->descartes) (1.12.0)\n",
      "Requirement already satisfied: setuptools in /Users/eric/anaconda3/envs/metatab-dev/lib/python3.7/site-packages (from kiwisolver>=1.0.1->matplotlib->descartes) (41.0.1)\n"
     ]
    }
   ],
   "source": [
    "import seaborn as sns\n",
    "import metapack as mp\n",
    "import pandas as pd\n",
    "import numpy as np\n",
    "import matplotlib.pyplot as plt\n",
    "from IPython.display import display \n",
    "\n",
    "%matplotlib inline\n",
    "sns.set_context('notebook')\n",
    "mp.jupyter.init()\n"
   ]
  },
  {
   "cell_type": "code",
   "execution_count": 2,
   "metadata": {},
   "outputs": [
    {
     "data": {
      "text/html": [
       "<h1>Homelessness Risk Tutorial</h1>\n",
       "<p><code>arcgis.com-risk-3</code> Last Update: 2019-07-05T21:47:28</p>\n",
       "<p><em>Data related to homelessness from an ArcGIS tutorial</em></p>\n",
       "<p>ESRI <a href=\"http://desktop.arcgis.com/en/analytics/case-studies/la-county-homelessness-2-pro-workflow.htm\">publishes a tutorial for creating maps for analyzing homelesness</a>, with a link to the data used. Many of the data are from  lahsa,org abd economicrt.org, but the package also includes many other columns. The data download includes a .gdb file, which includes no documentation, although there may be documentation in the HomelessnessPkg.ppkx file.</p>\n",
       "<p>For this data package, the files from the .gdb database have been converted to GeoJSON, to be imported into the package.</p>\n",
       "<h2>Documentation Links</h2>\n",
       "<ul>\n",
       "<li><a href=\"http://desktop.arcgis.com/en/analytics/case-studies/la-county-homelessness-2-pro-workflow.htm\">Tutorial</a> Tutorial web page</li>\n",
       "</ul>\n",
       "<h2>Contacts</h2>\n",
       "<ul>\n",
       "<li><strong>Wrangler</strong> <a href=\"mailto:eric@civicknowledge.com\">Eric Busboom</a>, <a href=\"http://civicknowledge.com\">Civic Knowledge</a></li>\n",
       "</ul>\n",
       "<h2>Resources</h2>\n",
       "<ul>\n",
       "<li><strong> <a href=\"data/resources.csv\">resources</a></strong>. Homeless population, crime, and 311 calls by tract and community.</li>\n",
       "<li><strong> <a href=\"data/county_outline.csv\">county_outline</a></strong>. County bountry outline</li>\n",
       "<li><strong> <a href=\"data/shelters_services.csv\">shelters_services</a></strong>. Locations and basic information for shelters and other services</li>\n",
       "<li><strong> <a href=\"data/homeless_population.csv\">homeless_population</a></strong>. Detailed homeless population data per tract.</li>\n",
       "<li><strong> <a href=\"data/risk_factors.csv\">risk_factors</a></strong>. Tract level neighborhood risk factors, probably from teh American Community Survey</li>\n",
       "</ul>\n",
       "<h2>References</h2>\n",
       "<ul>\n",
       "<li><strong><a href=\"http://www.arcgis.com/sharing/rest/content/items/21fca68ca0564ba6b344ee36c594025b/data\">Data package</a></strong>. Data package included in the tutorial.</li>\n",
       "</ul>"
      ],
      "text/plain": [
       "# Homelessness Risk Tutorial\n",
       "`arcgis.com-risk-3` Last Update: 2019-07-05T21:47:28\n",
       "\n",
       "_Data related to homelessness from an ArcGIS tutorial_\n",
       "\n",
       "\n",
       "ESRI [publishes a tutorial for creating maps for analyzing homelesness](http://desktop.arcgis.com/en/analytics/case-studies/la-county-homelessness-2-pro-workflow.htm), with a link to the data used. Many of the data are from  lahsa,org abd economicrt.org, but the package also includes many other columns. The data download includes a .gdb file, which includes no documentation, although there may be documentation in the HomelessnessPkg.ppkx file.\n",
       "\n",
       "For this data package, the files from the .gdb database have been converted to GeoJSON, to be imported into the package.\n",
       "## Documentation Links\n",
       "\n",
       "* [Tutorial](http://desktop.arcgis.com/en/analytics/case-studies/la-county-homelessness-2-pro-workflow.htm) Tutorial web page\n",
       "\n",
       " \n",
       "\n",
       "## Contacts\n",
       "\n",
       "* **Wrangler** [Eric Busboom](mailto:eric@civicknowledge.com), [Civic Knowledge](http://civicknowledge.com)\n",
       "\n",
       "## Resources\n",
       "\n",
       "* ** [resources](data/resources.csv)**. Homeless population, crime, and 311 calls by tract and community.\n",
       "* ** [county_outline](data/county_outline.csv)**. County bountry outline\n",
       "* ** [shelters_services](data/shelters_services.csv)**. Locations and basic information for shelters and other services\n",
       "* ** [homeless_population](data/homeless_population.csv)**. Detailed homeless population data per tract.\n",
       "* ** [risk_factors](data/risk_factors.csv)**. Tract level neighborhood risk factors, probably from teh American Community Survey\n",
       "\n",
       "## References\n",
       "\n",
       "* **[Data package](http://www.arcgis.com/sharing/rest/content/items/21fca68ca0564ba6b344ee36c594025b/data)**. Data package included in the tutorial."
      ]
     },
     "execution_count": 2,
     "metadata": {},
     "output_type": "execute_result"
    }
   ],
   "source": [
    "pkg = mp.jupyter.open_package()\n",
    "#pkg = mp.jupyter.open_source_package()\n",
    "pkg"
   ]
  },
  {
   "cell_type": "code",
   "execution_count": 3,
   "metadata": {},
   "outputs": [
    {
     "data": {
      "text/plain": [
       "<matplotlib.axes._subplots.AxesSubplot at 0x7ffa0bb23198>"
      ]
     },
     "execution_count": 3,
     "metadata": {},
     "output_type": "execute_result"
    },
    {
     "data": {
      "image/png": "[encoded data removed]",
      "text/plain": [
       "<Figure size 432x288 with 1 Axes>"
      ]
     },
     "metadata": {
      "needs_background": "light"
     },
     "output_type": "display_data"
    }
   ],
   "source": [
    "outline = pkg.resource('county_outline').geoframe()\n",
    "outline.plot()"
   ]
  },
  {
   "cell_type": "code",
   "execution_count": null,
   "metadata": {},
   "outputs": [],
   "source": []
  }
 ],
 "metadata": {
  "kernelspec": {
   "display_name": "Python 3",
   "language": "python",
   "name": "python3"
  },
  "language_info": {
   "codemirror_mode": {
    "name": "ipython",
    "version": 3
   },
   "file_extension": ".py",
   "mimetype": "text/x-python",
   "name": "python",
   "nbconvert_exporter": "python",
   "pygments_lexer": "ipython3",
   "version": "3.7.3"
  }
 },
 "nbformat": 4,
 "nbformat_minor": 2
}
